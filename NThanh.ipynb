{
  "nbformat": 4,
  "nbformat_minor": 0,
  "metadata": {
    "colab": {
      "name": "NThanh.ipynb",
      "provenance": [],
      "authorship_tag": "ABX9TyNP5/s0ClgP2mPR9jpL5hme",
      "include_colab_link": true
    },
    "kernelspec": {
      "name": "python3",
      "display_name": "Python 3"
    },
    "language_info": {
      "name": "python"
    }
  },
  "cells": [
    {
      "cell_type": "markdown",
      "metadata": {
        "id": "view-in-github",
        "colab_type": "text"
      },
      "source": [
        "<a href=\"https://colab.research.google.com/github/Huynhngocthanh/DoAn_2022/blob/main/NThanh.ipynb\" target=\"_parent\"><img src=\"https://colab.research.google.com/assets/colab-badge.svg\" alt=\"Open In Colab\"/></a>"
      ]
    },
    {
      "cell_type": "code",
      "execution_count": 16,
      "metadata": {
        "colab": {
          "base_uri": "https://localhost:8080/",
          "height": 271
        },
        "id": "cd4jhasWRg3u",
        "outputId": "d6545e8f-8859-465a-ad72-a8c5b9f1b1c0"
      },
      "outputs": [
        {
          "output_type": "display_data",
          "data": {
            "text/plain": [
              "<Figure size 432x288 with 1 Axes>"
            ],
            "image/png": "[encoded data removed]"
          },
          "metadata": {}
        }
      ],
      "source": [
        "# Để hỗ trợ cả python 2 và python 3\n",
        "from __future__ import division, print_function, unicode_literals\n",
        "# list of points \n",
        "import numpy as np \n",
        "import matplotlib.pyplot as plt\n",
        "from scipy.spatial.distance import cdist\n",
        "from matplotlib.backends.backend_pdf import PdfPages\n",
        "np.random.seed(22)\n",
        "\n",
        "means = [[2, 2], [4, 2]]\n",
        "cov = [[.7, 0], [0, .7]]\n",
        "N = 20\n",
        "X0 = np.random.multivariate_normal(means[0], cov, N) # each row is a data point \n",
        "X1 = np.random.multivariate_normal(means[1], cov, N)\n",
        "\n",
        "with PdfPages('./data.pdf') as pdf:\n",
        "    plt.plot(X0[:, 0], X0[:, 1], 'bs', markersize = 8, alpha = 1)\n",
        "    plt.plot(X1[:, 0], X1[:, 1], 'ro', markersize = 8, alpha = 1)\n",
        "    plt.axis('equal')\n",
        "    plt.ylim(0, 4)\n",
        "    plt.xlim(0, 5)\n",
        "\n",
        "    # hide tikcs \n",
        "    cur_axes = plt.gca()\n",
        "    cur_axes.axes.get_xaxis().set_ticks([])\n",
        "    cur_axes.axes.get_yaxis().set_ticks([])\n",
        "\n",
        "    plt.xlabel('$x_1$', fontsize = 20)\n",
        "    plt.ylabel('$x_2$', fontsize = 20)\n",
        "    pdf.savefig()\n",
        "    # plt.savefig('logistic_2d.png', bbox_inches='tight', dpi = 300)\n",
        "    plt.show()"
      ]
    },
    {
      "cell_type": "markdown",
      "source": [
        "5.1.1. Khai báo thư viện và tạo dữ liệu giả"
      ],
      "metadata": {
        "id": "zFl_DGI4SPzK"
      }
    },
    {
      "cell_type": "code",
      "source": [
        "#tạo dữ liệu\n",
        "#danh sách các điểm\n",
        "import numpy as np \n",
        "import matplotlib.pyplot as plt\n",
        "from scipy.spatial.distance import cdist\n",
        "np.random.seed(21)\n",
        "from matplotlib.backends.backend_pdf import PdfPages\n",
        "\n",
        "means = [[2, 2], [4, 1]]\n",
        "cov = [[.3, .2], [.2, .3]]\n",
        "N = 10\n",
        "X0 = np.random.multivariate_normal(means[0], cov, N)\n",
        "X1 = np.random.multivariate_normal(means[1], cov, N)\n",
        "X1[-1, :] = [2.7, 2]\n",
        "#X = np.concatenate((X0.T, X1.T), axis = 1)\n",
        "#y = np.concatenate((np.ones((1, N)), -1*np.ones((1, N))), axis = 1)"
      ],
      "metadata": {
        "id": "Dwuww_l4R9XX"
      },
      "execution_count": 17,
      "outputs": []
    },
    {
      "cell_type": "code",
      "source": [
        "X = np.vstack((X0, X1)) \n",
        "y = np.vstack((np.ones((N,1 )), -np.ones((N,1 )))).reshape((2*N,))"
      ],
      "metadata": {
        "id": "qG1kcVhaScIp"
      },
      "execution_count": 18,
      "outputs": []
    },
    {
      "cell_type": "markdown",
      "source": [
        "5.1.2. Giải bài toán bằng thư viện sklearn Ta chọn C = 100 trong thí nghiệm này"
      ],
      "metadata": {
        "id": "CRoBjWKjSjGg"
      }
    },
    {
      "cell_type": "code",
      "source": [
        "from sklearn.svm import SVC\n",
        "C = 100 \n",
        "clf = SVC(kernel = 'linear', C = C)\n",
        "y=y.reshape(-1,1) \n",
        "clf.fit(X, y) \n",
        "\n",
        "\n",
        "w_sklearn = clf.coef_.reshape(-1, 1)\n",
        "b_sklearn = clf.intercept_[0]\n",
        "print(w_sklearn.T, b_sklearn)"
      ],
      "metadata": {
        "colab": {
          "base_uri": "https://localhost:8080/"
        },
        "id": "TU_zTToFSjwY",
        "outputId": "ebabfea7-194c-4d29-a9ce-dea8501d5a6c"
      },
      "execution_count": 19,
      "outputs": [
        {
          "output_type": "stream",
          "name": "stdout",
          "text": [
            "[[-5.54202362  2.4156074 ]] 9.132415590204586\n"
          ]
        },
        {
          "output_type": "stream",
          "name": "stderr",
          "text": [
            "/usr/local/lib/python3.7/dist-packages/sklearn/utils/validation.py:993: DataConversionWarning: A column-vector y was passed when a 1d array was expected. Please change the shape of y to (n_samples, ), for example using ravel().\n",
            "  y = column_or_1d(y, warn=True)\n"
          ]
        }
      ]
    },
    {
      "cell_type": "markdown",
      "source": [
        "5.1.3. Tìm nghiệm bằng giải bài toán đối ngẫu Tương tự như việc giải bài toán Hard Margin SVM, chỉ khác rằng ta có thêm ràng buộc về chặn trên của các nhân thử Lagrange"
      ],
      "metadata": {
        "id": "LHdTviMWSs2h"
      }
    },
    {
      "cell_type": "code",
      "source": [
        "from cvxopt import matrix, solvers\n",
        "# build K\n",
        "V = np.concatenate((X0.T, -X1.T), axis = 1)\n",
        "K = matrix(V.T.dot(V))\n",
        "\n",
        "p = matrix(-np.ones((2*N, 1)))\n",
        "# build A, b, G, h \n",
        "G = matrix(np.vstack((-np.eye(2*N), np.eye(2*N))))\n",
        "\n",
        "h = matrix(np.vstack((np.zeros((2*N, 1)), C*np.ones((2*N, 1)))))\n",
        "A = matrix(y.reshape((-1, 2*N))) \n",
        "b = matrix(np.zeros((1, 1))) \n",
        "solvers.options['show_progress'] = False\n",
        "sol = solvers.qp(K, p, G, h, A, b)\n",
        "\n",
        "l = np.array(sol['x'])\n",
        "print('lambda = \\n', l.T)"
      ],
      "metadata": {
        "colab": {
          "base_uri": "https://localhost:8080/"
        },
        "id": "7TAw00E6StXa",
        "outputId": "7937a263-dc93-44d0-feb2-da6a8c36d2ff"
      },
      "execution_count": 20,
      "outputs": [
        {
          "output_type": "stream",
          "name": "stdout",
          "text": [
            "lambda = \n",
            " [[1.26997770e-08 7.29907090e-09 6.75263620e+00 1.20067067e-08\n",
            "  8.83482181e-09 1.00135373e-08 9.49241066e-09 1.10095260e-08\n",
            "  1.09448265e-08 1.15277180e+01 3.06483278e-09 2.92217775e-09\n",
            "  3.52341246e-09 5.49363383e-09 4.48478627e-09 7.55953464e-09\n",
            "  2.73325320e-09 5.71296652e-09 5.02756847e-09 1.82803543e+01]]\n"
          ]
        }
      ]
    },
    {
      "cell_type": "markdown",
      "source": [
        "Trong các thành phần của lambda tìm được, có rất nhiều thành phần nhỏ tới 1e-6 hay 1e-7. Đây chính là các lambda_i = 0. Có rất nhiều phần tử xấp xỉ 9.99e+01, đây chính là các lambda_i bằng với C = 100, tương ứng với các support vectors không nằm trên margins, các sai số nhỏ xảy ra do tính toán. Các giá trị còn lại nằm giữa 0 và 100 là các giá trị tương ứng với các điểm nằm chính xác trên hai margins.\n",
        "\n",
        "Tiếp theo, ta cần tính w và b theo công thức ( 15 ) và ( 16 ) . Trước đó ta cần tìm tập hợp các điểm support và những điểm nằm trên margins"
      ],
      "metadata": {
        "id": "snlWO6NKS9JJ"
      }
    },
    {
      "cell_type": "code",
      "source": [
        "S = np.where(l > 1e-5)[0] # support set \n",
        "S2 = np.where(l < .999*C)[0] \n",
        "\n",
        "M = [val for val in S if val in S2] # intersection of two lists\n",
        "\n",
        "XT = X.T # we need each column to be one data point in this alg\n",
        "VS = V[:, S]\n",
        "lS = l[S]\n",
        "yM = y[M]\n",
        "XM = XT[:, M]\n",
        "\n",
        "w_dual = VS.dot(lS).reshape(-1, 1)\n",
        "b_dual = np.mean(yM.T - w_dual.T.dot(XM))\n",
        "print(w_dual.T, b_dual)"
      ],
      "metadata": {
        "colab": {
          "base_uri": "https://localhost:8080/"
        },
        "id": "m8WEiJfaS96K",
        "outputId": "95d96e3f-7428-408b-b502-72ccf543a1c5"
      },
      "execution_count": 21,
      "outputs": [
        {
          "output_type": "stream",
          "name": "stdout",
          "text": [
            "[[-5.54276837  2.41628387]] 9.13290685085968\n"
          ]
        }
      ]
    },
    {
      "cell_type": "markdown",
      "source": [
        "5.1.4. Tìm nghiệm bằng giải bài toán không ràng buộc Trong phương pháp này, chúng ta cần tính gradient của hàm mất mát. Như thường lệ, chúng ta cần kiểm chứng này bằng cách so sánh với numerical gradient.\n",
        "\n",
        "Chú ý rằng trong phương pháp này, ta cần dùng tham số lam = 1/C"
      ],
      "metadata": {
        "id": "ahZpyxV5TD_x"
      }
    },
    {
      "cell_type": "code",
      "source": [
        "X0_bar = np.vstack((X0.T, np.ones((1, N)))) # extended data\n",
        "X1_bar = np.vstack((X1.T, np.ones((1, N)))) # extended data \n",
        "\n",
        "Z = np.hstack((X0_bar, - X1_bar)) # as in (22)\n",
        "lam = 1./C\n",
        "\n",
        "def cost(w):\n",
        "    u = w.T.dot(Z) # as in (23)\n",
        "    return (np.sum(np.maximum(0, 1 - u)) + \\\n",
        "        .5*lam*np.sum(w*w)) - .5*lam*w[-1]*w[-1] # no bias \n",
        "\n",
        "def grad(w):\n",
        "    u = w.T.dot(Z) # as in (23)\n",
        "    H = np.where(u < 1)[1]\n",
        "    ZS = Z[:, H]\n",
        "    g = (-np.sum(ZS, axis = 1, keepdims = True) + lam*w)\n",
        "    g[-1] -= lam*w[-1] # no weight decay on bias\n",
        "    return g\n",
        "    \n",
        "eps = 1e-6\n",
        "def num_grad(w):\n",
        "    g = np.zeros_like(w)\n",
        "    for i in range(len(w)):\n",
        "        wp = w.copy()\n",
        "        wm = w.copy()\n",
        "        wp[i] += eps \n",
        "        wm[i] -= eps \n",
        "        g[i] = (cost(wp) - cost(wm))/(2*eps)\n",
        "    return g \n",
        "\n",
        "w0 = np.random.randn(X0_bar.shape[0], 1) \n",
        "g1 = grad(w0)\n",
        "g2 = num_grad(w0)\n",
        "diff = np.linalg.norm(g1 - g2)\n",
        "print('Gradient different: %f' %diff)"
      ],
      "metadata": {
        "colab": {
          "base_uri": "https://localhost:8080/"
        },
        "id": "SzoOxHzRTEXj",
        "outputId": "fc56eac7-951e-4cbe-bd90-413bb0d8f2c6"
      },
      "execution_count": 22,
      "outputs": [
        {
          "output_type": "stream",
          "name": "stdout",
          "text": [
            "Gradient different: 0.000000\n"
          ]
        }
      ]
    },
    {
      "cell_type": "markdown",
      "source": [
        "Vì sự khác nhau giữa hai cách tính gradient là bằng 0, ta có thể yên tâm rằng gradient tính được là chính xác.\n",
        "\n",
        "Sau khi chắc chắn rằng gradient tìm được đã chính xác, ta có thể bắt đầu làm Gradient Descent"
      ],
      "metadata": {
        "id": "WXdg2rq9TRM5"
      }
    },
    {
      "cell_type": "code",
      "source": [
        "def grad_descent(w0, eta):\n",
        "    w = w0\n",
        "    it = 0 \n",
        "    while it < 100000:\n",
        "        it = it + 1\n",
        "        g = grad(w)\n",
        "        w -= eta*g\n",
        "        if (it % 10000) == 1:\n",
        "            print('iter %d' %it + ' cost: %f' %cost(w))\n",
        "        if np.linalg.norm(g) < 1e-5:\n",
        "            break \n",
        "    return w \n",
        "w0 = np.random.randn(X0_bar.shape[0], 1) \n",
        "w = grad_descent(w0, 0.001)\n",
        "w_hinge = w[:-1].reshape(-1, 1)\n",
        "b_hinge = w[-1]\n",
        "print(w_hinge.T, b_hinge)"
      ],
      "metadata": {
        "colab": {
          "base_uri": "https://localhost:8080/"
        },
        "id": "1mmSm1smTRoF",
        "outputId": "63147247-bc5a-41f6-ae1d-8c88e35fd0d4"
      },
      "execution_count": 23,
      "outputs": [
        {
          "output_type": "stream",
          "name": "stdout",
          "text": [
            "iter 1 cost: 47.818294\n",
            "iter 10001 cost: 1.306777\n",
            "iter 20001 cost: 0.979035\n",
            "iter 30001 cost: 0.670496\n",
            "iter 40001 cost: 0.389639\n",
            "iter 50001 cost: 0.183199\n",
            "iter 60001 cost: 0.183199\n",
            "iter 70001 cost: 0.183198\n",
            "iter 80001 cost: 0.183198\n",
            "iter 90001 cost: 0.183197\n",
            "[[-5.54894385  2.41853936]] [9.14489666]\n"
          ]
        }
      ]
    }
  ]
}